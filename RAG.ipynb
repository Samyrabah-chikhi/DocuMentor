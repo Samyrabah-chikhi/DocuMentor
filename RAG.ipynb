{
 "cells": [
  {
   "cell_type": "markdown",
   "id": "26bf5015-8190-4f1c-a496-7a99b2401dc1",
   "metadata": {},
   "source": [
    "# Vars"
   ]
  },
  {
   "cell_type": "code",
   "execution_count": null,
   "id": "a14c359a-eb80-408e-8a5a-3c508a8cbe15",
   "metadata": {},
   "outputs": [
    {
     "ename": "",
     "evalue": "",
     "output_type": "error",
     "traceback": [
      "\u001b[1;31mRunning cells with 'Python 3.10.10' requires the ipykernel package.\n",
      "\u001b[1;31m<a href='command:jupyter.createPythonEnvAndSelectController'>Create a Python Environment</a> with the required packages.\n",
      "\u001b[1;31mOr install 'ipykernel' using the command: 'c:/Users/samy/AppData/Local/Programs/Python/Python310/python.exe -m pip install ipykernel -U --user --force-reinstall'"
     ]
    }
   ],
   "source": [
    "LLM_name = \"qwen2.5vl:3b\""
   ]
  },
  {
   "cell_type": "markdown",
   "id": "900b94f7-cd26-4b82-b769-c11ecc44bd91",
   "metadata": {},
   "source": [
    "# Load LLM"
   ]
  },
  {
   "cell_type": "code",
   "execution_count": 2,
   "id": "d0908373-1ab7-4327-92a1-94ff605bf80d",
   "metadata": {},
   "outputs": [],
   "source": [
    "from langchain_ollama import OllamaLLM\n",
    "\n",
    "llm = OllamaLLM(model=LLM_name)  \n"
   ]
  },
  {
   "cell_type": "markdown",
   "id": "418ce4ef-8748-4911-8d95-09e15048d0d1",
   "metadata": {},
   "source": [
    "# Load embedding model"
   ]
  },
  {
   "cell_type": "code",
   "execution_count": 3,
   "id": "4935bccc-d235-4eb2-95bd-e657f38e6130",
   "metadata": {},
   "outputs": [
    {
     "name": "stderr",
     "output_type": "stream",
     "text": [
      "C:\\Users\\WELTINFO\\Desktop\\models\\RAG qwen\\myenv\\Lib\\site-packages\\tqdm\\auto.py:21: TqdmWarning: IProgress not found. Please update jupyter and ipywidgets. See https://ipywidgets.readthedocs.io/en/stable/user_install.html\n",
      "  from .autonotebook import tqdm as notebook_tqdm\n"
     ]
    },
    {
     "name": "stdout",
     "output_type": "stream",
     "text": [
      "done\n"
     ]
    }
   ],
   "source": [
    "from langchain_huggingface import HuggingFaceEmbeddings\n",
    "\n",
    "model_name = \"sentence-transformers/all-mpnet-base-v2\"\n",
    "model_kwargs = {'device': 'cpu'}\n",
    "encode_kwargs = {'normalize_embeddings': False}\n",
    "hf = HuggingFaceEmbeddings(\n",
    "    model_name=model_name,\n",
    "    model_kwargs=model_kwargs,\n",
    "    encode_kwargs=encode_kwargs\n",
    ")\n",
    "\n",
    "#test\n",
    "embed = await hf.aembed_query(\"hello\")\n",
    "print(\"done\")"
   ]
  },
  {
   "cell_type": "markdown",
   "id": "1e3bde8f-bace-453b-b223-4fd4c62cba9c",
   "metadata": {},
   "source": [
    "# Vector store"
   ]
  },
  {
   "cell_type": "code",
   "execution_count": 4,
   "id": "600cf998-79a3-4b3c-85ad-1894fd006bb2",
   "metadata": {},
   "outputs": [
    {
     "name": "stdout",
     "output_type": "stream",
     "text": [
      "<langchain_community.vectorstores.faiss.FAISS object at 0x000001FB6B317BF0>\n"
     ]
    }
   ],
   "source": [
    "import faiss\n",
    "from langchain_community.docstore.in_memory import InMemoryDocstore\n",
    "from langchain_community.vectorstores import FAISS\n",
    "\n",
    "embedding_dim = len(embed)\n",
    "index = faiss.IndexFlatL2(embedding_dim)\n",
    "\n",
    "vector_store = FAISS(\n",
    "    embedding_function=hf,\n",
    "    index=index,\n",
    "    docstore=InMemoryDocstore(),\n",
    "    index_to_docstore_id={},\n",
    ")\n",
    "\n",
    "print(vector_store)"
   ]
  },
  {
   "cell_type": "markdown",
   "id": "79ff5240-8033-4933-b5ae-46165f620af0",
   "metadata": {},
   "source": [
    "# Load and chunk the data"
   ]
  },
  {
   "cell_type": "code",
   "execution_count": 5,
   "id": "ce668bd0-0e85-447a-aeb7-0ad204ce4f8d",
   "metadata": {},
   "outputs": [
    {
     "name": "stderr",
     "output_type": "stream",
     "text": [
      "  0%|                                                                                            | 0/4 [00:00<?, ?it/s]libmagic is unavailable but assists in filetype detection. Please consider installing libmagic for better results.\n",
      " 25%|█████████████████████                                                               | 1/4 [00:04<00:12,  4.25s/it]libmagic is unavailable but assists in filetype detection. Please consider installing libmagic for better results.\n",
      "libmagic is unavailable but assists in filetype detection. Please consider installing libmagic for better results.\n",
      "libmagic is unavailable but assists in filetype detection. Please consider installing libmagic for better results.\n",
      "100%|████████████████████████████████████████████████████████████████████████████████████| 4/4 [00:04<00:00,  1.08s/it]\n"
     ]
    },
    {
     "name": "stdout",
     "output_type": "stream",
     "text": [
      "data loaded successfully\n",
      "Split blog post into 4 sub-documents.\n",
      "['b7923881-9cf0-4644-8c34-931354f5799e', '6a191708-8b5d-4a10-801a-0c06d97b2855']\n"
     ]
    }
   ],
   "source": [
    "from langchain_community.document_loaders import DirectoryLoader\n",
    "from langchain_text_splitters import RecursiveCharacterTextSplitter\n",
    "\n",
    "\n",
    "#lead folder with DirectoryLoader\n",
    "loader = DirectoryLoader(\"./data/\", glob=\"**/*.txt\", show_progress=True)\n",
    "docs = loader.load()\n",
    "print(\"data loaded successfully\")\n",
    "\n",
    "\n",
    "#split the docs to chunks with textspliter\n",
    "text_splitter = RecursiveCharacterTextSplitter(\n",
    "    chunk_size=800,  # chunk size (mb chars)\n",
    "    chunk_overlap=200,  # chunk overlap (nb chars)\n",
    "    add_start_index=True,  # track index in original document (idk wchm3ntha)\n",
    ")\n",
    "all_splits = text_splitter.split_documents(docs)\n",
    "print(f\"Split blog post into {len(all_splits)} sub-documents.\")\n",
    "\n",
    "#sotre the splits in vector sotre\n",
    "document_ids = vector_store.add_documents(documents=all_splits)\n",
    "\n",
    "print(document_ids[:2])"
   ]
  },
  {
   "cell_type": "markdown",
   "id": "644de4af-caad-41cb-ac6f-3e0066341e7d",
   "metadata": {},
   "source": [
    "# Retrieval and Generation"
   ]
  },
  {
   "cell_type": "markdown",
   "id": "ca1f081c-6392-4e23-855e-e8666593aecc",
   "metadata": {},
   "source": [
    "**1 Create prompt**"
   ]
  },
  {
   "cell_type": "code",
   "execution_count": 6,
   "id": "e5226bb8-3d17-472b-a8a3-6134034d7b47",
   "metadata": {},
   "outputs": [],
   "source": [
    "from langchain_core.prompts import ChatPromptTemplate\n",
    "\n",
    "#create custom prompt\n",
    "prompt = ChatPromptTemplate.from_template(\n",
    "    \"Vous êtes un assistant chargé de répondre à des questions. Utilisez les éléments de contexte suivants pour répondre à la question. Si vous ne connaissez pas la réponse, dites simplement que vous ne savez pas. Utilisez au maximum trois phrases et restez concis..\\n\\n\"\n",
    "    \"Contexte : {context}\\n\\n\"\n",
    "    \"Question : {question}\\n\\n\"\n",
    "    \"Réponse :\"\n",
    ")\n"
   ]
  },
  {
   "cell_type": "markdown",
   "id": "47af6fd3-3ef4-458d-8915-a81e47eae048",
   "metadata": {},
   "source": [
    "**2 Create the graph**"
   ]
  },
  {
   "cell_type": "code",
   "execution_count": 7,
   "id": "38653900-8a5f-4079-ba71-5d6e638fd4ce",
   "metadata": {},
   "outputs": [],
   "source": [
    "from langchain_core.documents import Document\n",
    "from typing_extensions import List, TypedDict\n",
    "\n",
    "\n",
    "class State(TypedDict):\n",
    "    question: str\n",
    "    context: List[Document]\n",
    "    answer: str\n",
    "\n",
    "def retrieve(state: State):\n",
    "    retrieved_docs = vector_store.similarity_search(state[\"question\"])\n",
    "    return {\"context\": retrieved_docs}\n",
    "\n",
    "\n",
    "def generate(state: State):\n",
    "    docs_content = \"\\n\\n\".join(doc.page_content for doc in state[\"context\"])\n",
    "    messages = prompt.invoke({\"question\": state[\"question\"], \"context\": docs_content})\n",
    "    response = llm.invoke(messages)\n",
    "    return {\"answer\": response}"
   ]
  },
  {
   "cell_type": "code",
   "execution_count": 8,
   "id": "8b15c74f-85d6-4693-b490-b63e98974040",
   "metadata": {},
   "outputs": [],
   "source": [
    "from langgraph.graph import START, StateGraph\n",
    "\n",
    "graph_builder = StateGraph(State).add_sequence([retrieve, generate])\n",
    "graph_builder.add_edge(START, \"retrieve\")\n",
    "graph = graph_builder.compile()"
   ]
  },
  {
   "cell_type": "code",
   "execution_count": 9,
   "id": "c7b418d2-f606-4ff9-bd58-69614c5f67ee",
   "metadata": {},
   "outputs": [
    {
     "data": {
      "image/png": "[encoded data removed]",
      "text/plain": [
       "<IPython.core.display.Image object>"
      ]
     },
     "metadata": {},
     "output_type": "display_data"
    }
   ],
   "source": [
    "from IPython.display import Image, display\n",
    "display(Image(graph.get_graph().draw_mermaid_png()))"
   ]
  },
  {
   "cell_type": "markdown",
   "id": "15ee625b-81cb-4536-a749-ca1a3ff9f9d2",
   "metadata": {},
   "source": [
    "# Test (ncahlh tmchi)"
   ]
  },
  {
   "cell_type": "code",
   "execution_count": 11,
   "id": "6b2909aa-9e00-4583-bf19-e580e060f9a7",
   "metadata": {},
   "outputs": [
    {
     "name": "stdout",
     "output_type": "stream",
     "text": [
      "Answer: Anis est un CHIKOUR.\n"
     ]
    }
   ],
   "source": [
    "result = graph.invoke({\"question\": \"Qui est anis\"})\n",
    "\n",
    "print(f'Answer: {result[\"answer\"]}')"
   ]
  },
  {
   "cell_type": "code",
   "execution_count": null,
   "id": "d3e62456-03fd-4459-804a-e22183050eec",
   "metadata": {},
   "outputs": [],
   "source": []
  }
 ],
 "metadata": {
  "kernelspec": {
   "display_name": "Python 3",
   "language": "python",
   "name": "python3"
  },
  "language_info": {
   "codemirror_mode": {
    "name": "ipython",
    "version": 3
   },
   "file_extension": ".py",
   "mimetype": "text/x-python",
   "name": "python",
   "nbconvert_exporter": "python",
   "pygments_lexer": "ipython3",
   "version": "3.10.10"
  }
 },
 "nbformat": 4,
 "nbformat_minor": 5
}
